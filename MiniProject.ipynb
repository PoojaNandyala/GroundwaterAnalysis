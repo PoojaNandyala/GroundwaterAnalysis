{
  "cells": [
    {
      "cell_type": "code",
      "execution_count": null,
      "metadata": {
        "id": "7iBZs1021XPe"
      },
      "outputs": [
        {
          "ename": "",
          "evalue": "",
          "output_type": "error",
          "traceback": [
            "\u001b[1;31mRunning cells with 'venv (Python 3.7.0)' requires the ipykernel package.\n",
            "\u001b[1;31mRun the following command to install 'ipykernel' into the Python environment. \n",
            "\u001b[1;31mCommand: 'conda install -p c:\\Users\\Pooja\\OneDrive\\Desktop\\MLProject\\GroundwaterAnalysis\\venv ipykernel --update-deps --force-reinstall'"
          ]
        }
      ],
      "source": [
        "import numpy as np\n",
        "import pandas as pd\n",
        "import seaborn as sns\n",
        "import matplotlib.pyplot as plt\n",
        "pd.set_option('display.max_columns',None)\n",
        "from sklearn.decomposition import PCA\n",
        "from sklearn.model_selection import train_test_split\n",
        "from sklearn.metrics import accuracy_score, confusion_matrix, classification_report\n",
        "import sklearn.metrics\n",
        "import math\n",
        "from sklearn.preprocessing import StandardScaler\n",
        "from sklearn.preprocessing import LabelEncoder, OneHotEncoder\n",
        "import xgboost as xgb\n",
        "import warnings\n",
        "warnings.filterwarnings(\"ignore\")"
      ]
    },
    {
      "cell_type": "code",
      "execution_count": null,
      "metadata": {
        "id": "Tzjt_Pon6mkp"
      },
      "outputs": [
        {
          "ename": "",
          "evalue": "",
          "output_type": "error",
          "traceback": [
            "\u001b[1;31mRunning cells with 'venv (Python 3.7.0)' requires the ipykernel package.\n",
            "\u001b[1;31mRun the following command to install 'ipykernel' into the Python environment. \n",
            "\u001b[1;31mCommand: 'conda install -p c:\\Users\\Pooja\\OneDrive\\Desktop\\MLProject\\GroundwaterAnalysis\\venv ipykernel --update-deps --force-reinstall'"
          ]
        }
      ],
      "source": [
        "data2018=pd.read_csv(\"ground_water_quality_2018_post.csv\")\n",
        "data2019=pd.read_csv(\"ground_water_quality_2019_post.csv\")\n",
        "data2020=pd.read_csv(\"ground_water_quality_2020_post.csv\")"
      ]
    },
    {
      "cell_type": "code",
      "execution_count": null,
      "metadata": {
        "colab": {
          "base_uri": "https://localhost:8080/"
        },
        "id": "A0_L_lv566qF",
        "outputId": "3c24e499-8867-4616-b49a-30d4e91e53c4"
      },
      "outputs": [
        {
          "ename": "",
          "evalue": "",
          "output_type": "error",
          "traceback": [
            "\u001b[1;31mRunning cells with 'venv (Python 3.7.0)' requires the ipykernel package.\n",
            "\u001b[1;31mRun the following command to install 'ipykernel' into the Python environment. \n",
            "\u001b[1;31mCommand: 'conda install -p c:\\Users\\Pooja\\OneDrive\\Desktop\\MLProject\\GroundwaterAnalysis\\venv ipykernel --update-deps --force-reinstall'"
          ]
        }
      ],
      "source": [
        "data2018.shape"
      ]
    },
    {
      "cell_type": "code",
      "execution_count": null,
      "metadata": {
        "colab": {
          "base_uri": "https://localhost:8080/"
        },
        "id": "WIPyXl0I7L6m",
        "outputId": "61a55259-a760-4ef7-97f6-126707c872eb"
      },
      "outputs": [
        {
          "ename": "",
          "evalue": "",
          "output_type": "error",
          "traceback": [
            "\u001b[1;31mRunning cells with 'venv (Python 3.7.0)' requires the ipykernel package.\n",
            "\u001b[1;31mRun the following command to install 'ipykernel' into the Python environment. \n",
            "\u001b[1;31mCommand: 'conda install -p c:\\Users\\Pooja\\OneDrive\\Desktop\\MLProject\\GroundwaterAnalysis\\venv ipykernel --update-deps --force-reinstall'"
          ]
        }
      ],
      "source": [
        "data2018.isnull().sum()"
      ]
    },
    {
      "cell_type": "code",
      "execution_count": null,
      "metadata": {
        "colab": {
          "base_uri": "https://localhost:8080/"
        },
        "id": "edjDowQs7VX7",
        "outputId": "c509a7ba-ef6f-42e3-b181-74fde1b09205"
      },
      "outputs": [
        {
          "ename": "",
          "evalue": "",
          "output_type": "error",
          "traceback": [
            "\u001b[1;31mRunning cells with 'venv (Python 3.7.0)' requires the ipykernel package.\n",
            "\u001b[1;31mRun the following command to install 'ipykernel' into the Python environment. \n",
            "\u001b[1;31mCommand: 'conda install -p c:\\Users\\Pooja\\OneDrive\\Desktop\\MLProject\\GroundwaterAnalysis\\venv ipykernel --update-deps --force-reinstall'"
          ]
        }
      ],
      "source": [
        "data2019.isnull().sum()"
      ]
    },
    {
      "cell_type": "code",
      "execution_count": null,
      "metadata": {
        "colab": {
          "base_uri": "https://localhost:8080/"
        },
        "id": "5DubV6Kq7ee4",
        "outputId": "4219cdbb-7289-4062-e525-1badb1f21e0f"
      },
      "outputs": [
        {
          "ename": "",
          "evalue": "",
          "output_type": "error",
          "traceback": [
            "\u001b[1;31mRunning cells with 'venv (Python 3.7.0)' requires the ipykernel package.\n",
            "\u001b[1;31mRun the following command to install 'ipykernel' into the Python environment. \n",
            "\u001b[1;31mCommand: 'conda install -p c:\\Users\\Pooja\\OneDrive\\Desktop\\MLProject\\GroundwaterAnalysis\\venv ipykernel --update-deps --force-reinstall'"
          ]
        }
      ],
      "source": [
        "data2020.isnull().sum()"
      ]
    },
    {
      "cell_type": "code",
      "execution_count": null,
      "metadata": {
        "id": "-CHHbuvn7xoP"
      },
      "outputs": [
        {
          "ename": "",
          "evalue": "",
          "output_type": "error",
          "traceback": [
            "\u001b[1;31mRunning cells with 'venv (Python 3.7.0)' requires the ipykernel package.\n",
            "\u001b[1;31mRun the following command to install 'ipykernel' into the Python environment. \n",
            "\u001b[1;31mCommand: 'conda install -p c:\\Users\\Pooja\\OneDrive\\Desktop\\MLProject\\GroundwaterAnalysis\\venv ipykernel --update-deps --force-reinstall'"
          ]
        }
      ],
      "source": [
        "data2020.drop(\"Unnamed: 8\",axis=1, inplace=True)"
      ]
    },
    {
      "cell_type": "code",
      "execution_count": null,
      "metadata": {
        "id": "OLcKIiA38GV8"
      },
      "outputs": [
        {
          "ename": "",
          "evalue": "",
          "output_type": "error",
          "traceback": [
            "\u001b[1;31mRunning cells with 'venv (Python 3.7.0)' requires the ipykernel package.\n",
            "\u001b[1;31mRun the following command to install 'ipykernel' into the Python environment. \n",
            "\u001b[1;31mCommand: 'conda install -p c:\\Users\\Pooja\\OneDrive\\Desktop\\MLProject\\GroundwaterAnalysis\\venv ipykernel --update-deps --force-reinstall'"
          ]
        }
      ],
      "source": [
        "column_name_mappings={'CO_-2 ':'CO3', 'HCO_ - ':'HCO3', 'Cl -':'Cl', 'F -':'F','NO3- ':'NO3 ', 'SO4-2':'SO4', 'Na+':'Na', 'K+':'K', 'Ca+2':'Ca', 'Mg+2':'Mg','EC':'E.C'\n",
        "                     }\n",
        "data2019.rename(columns=column_name_mappings,inplace=True)"
      ]
    },
    {
      "cell_type": "code",
      "execution_count": null,
      "metadata": {
        "colab": {
          "base_uri": "https://localhost:8080/"
        },
        "id": "By2rKwVU8KRs",
        "outputId": "ab2cd717-119e-4d23-8cb5-ad928cb23351"
      },
      "outputs": [
        {
          "ename": "",
          "evalue": "",
          "output_type": "error",
          "traceback": [
            "\u001b[1;31mRunning cells with 'venv (Python 3.7.0)' requires the ipykernel package.\n",
            "\u001b[1;31mRun the following command to install 'ipykernel' into the Python environment. \n",
            "\u001b[1;31mCommand: 'conda install -p c:\\Users\\Pooja\\OneDrive\\Desktop\\MLProject\\GroundwaterAnalysis\\venv ipykernel --update-deps --force-reinstall'"
          ]
        }
      ],
      "source": [
        "data2019.info()"
      ]
    },
    {
      "cell_type": "code",
      "execution_count": null,
      "metadata": {
        "id": "LU7WrFnF8pAT"
      },
      "outputs": [
        {
          "ename": "",
          "evalue": "",
          "output_type": "error",
          "traceback": [
            "\u001b[1;31mRunning cells with 'venv (Python 3.7.0)' requires the ipykernel package.\n",
            "\u001b[1;31mRun the following command to install 'ipykernel' into the Python environment. \n",
            "\u001b[1;31mCommand: 'conda install -p c:\\Users\\Pooja\\OneDrive\\Desktop\\MLProject\\GroundwaterAnalysis\\venv ipykernel --update-deps --force-reinstall'"
          ]
        }
      ],
      "source": [
        "median_groundwater_by_district_2018 = data2018.groupby('district')['gwl'].median()\n",
        "median_groundwater_by_district_2019 = data2019.groupby('district')['gwl'].median()\n",
        "median_groundwater_by_district_2020 = data2020.groupby('district')['gwl'].median()"
      ]
    },
    {
      "cell_type": "code",
      "execution_count": null,
      "metadata": {
        "id": "lV4uLrvi9GA9"
      },
      "outputs": [
        {
          "ename": "",
          "evalue": "",
          "output_type": "error",
          "traceback": [
            "\u001b[1;31mRunning cells with 'venv (Python 3.7.0)' requires the ipykernel package.\n",
            "\u001b[1;31mRun the following command to install 'ipykernel' into the Python environment. \n",
            "\u001b[1;31mCommand: 'conda install -p c:\\Users\\Pooja\\OneDrive\\Desktop\\MLProject\\GroundwaterAnalysis\\venv ipykernel --update-deps --force-reinstall'"
          ]
        }
      ],
      "source": [
        "def impute_missing_with_median(row):\n",
        "    if pd.isnull(row['gwl']):\n",
        "        return median_groundwater_by_district_2019[row['district']]\n",
        "    else:\n",
        "        return row['gwl']\n",
        "\n",
        "\n",
        "data2018['gwl'] = data2018.apply(impute_missing_with_median, axis=1)\n",
        "data2019['gwl'] = data2019.apply(impute_missing_with_median, axis=1)\n",
        "data2020['gwl'] = data2020.apply(impute_missing_with_median, axis=1)"
      ]
    },
    {
      "cell_type": "code",
      "execution_count": null,
      "metadata": {
        "colab": {
          "base_uri": "https://localhost:8080/"
        },
        "id": "yZTCZ3Njc62h",
        "outputId": "a468a412-29f9-4f96-e7c2-46e5d917b49a"
      },
      "outputs": [
        {
          "ename": "",
          "evalue": "",
          "output_type": "error",
          "traceback": [
            "\u001b[1;31mRunning cells with 'venv (Python 3.7.0)' requires the ipykernel package.\n",
            "\u001b[1;31mRun the following command to install 'ipykernel' into the Python environment. \n",
            "\u001b[1;31mCommand: 'conda install -p c:\\Users\\Pooja\\OneDrive\\Desktop\\MLProject\\GroundwaterAnalysis\\venv ipykernel --update-deps --force-reinstall'"
          ]
        }
      ],
      "source": [
        "missing2019=data2019[data2019['CO3'].isnull()]\n",
        "missing2019['district'].value_counts()"
      ]
    },
    {
      "cell_type": "code",
      "execution_count": null,
      "metadata": {
        "id": "6eXGF_OJdHmy"
      },
      "outputs": [
        {
          "ename": "",
          "evalue": "",
          "output_type": "error",
          "traceback": [
            "\u001b[1;31mRunning cells with 'venv (Python 3.7.0)' requires the ipykernel package.\n",
            "\u001b[1;31mRun the following command to install 'ipykernel' into the Python environment. \n",
            "\u001b[1;31mCommand: 'conda install -p c:\\Users\\Pooja\\OneDrive\\Desktop\\MLProject\\GroundwaterAnalysis\\venv ipykernel --update-deps --force-reinstall'"
          ]
        }
      ],
      "source": [
        "df_missing=data2019[['pH','CO3']]\n",
        "df_subset = df_missing.dropna(subset=['CO3', 'pH'])"
      ]
    },
    {
      "cell_type": "code",
      "execution_count": null,
      "metadata": {
        "id": "ddKZK7MndREh"
      },
      "outputs": [
        {
          "ename": "",
          "evalue": "",
          "output_type": "error",
          "traceback": [
            "\u001b[1;31mRunning cells with 'venv (Python 3.7.0)' requires the ipykernel package.\n",
            "\u001b[1;31mRun the following command to install 'ipykernel' into the Python environment. \n",
            "\u001b[1;31mCommand: 'conda install -p c:\\Users\\Pooja\\OneDrive\\Desktop\\MLProject\\GroundwaterAnalysis\\venv ipykernel --update-deps --force-reinstall'"
          ]
        }
      ],
      "source": [
        "#taking X and y for prediction\n",
        "X_train = df_subset['pH'].values.reshape(-1, 1)\n",
        "y_train = df_subset['CO3'].values"
      ]
    },
    {
      "cell_type": "code",
      "execution_count": null,
      "metadata": {
        "colab": {
          "base_uri": "https://localhost:8080/",
          "height": 74
        },
        "id": "U6H-w7yJdYwz",
        "outputId": "0233e726-c4cc-47af-a642-232aec6441bf"
      },
      "outputs": [
        {
          "ename": "",
          "evalue": "",
          "output_type": "error",
          "traceback": [
            "\u001b[1;31mRunning cells with 'venv (Python 3.7.0)' requires the ipykernel package.\n",
            "\u001b[1;31mRun the following command to install 'ipykernel' into the Python environment. \n",
            "\u001b[1;31mCommand: 'conda install -p c:\\Users\\Pooja\\OneDrive\\Desktop\\MLProject\\GroundwaterAnalysis\\venv ipykernel --update-deps --force-reinstall'"
          ]
        }
      ],
      "source": [
        "from sklearn.linear_model import LinearRegression\n",
        "\n",
        "# Create and train the linear regression model\n",
        "model = LinearRegression()\n",
        "model.fit(X_train, y_train)"
      ]
    },
    {
      "cell_type": "code",
      "execution_count": null,
      "metadata": {
        "id": "dx9r5Pp0dcmB"
      },
      "outputs": [
        {
          "ename": "",
          "evalue": "",
          "output_type": "error",
          "traceback": [
            "\u001b[1;31mRunning cells with 'venv (Python 3.7.0)' requires the ipykernel package.\n",
            "\u001b[1;31mRun the following command to install 'ipykernel' into the Python environment. \n",
            "\u001b[1;31mCommand: 'conda install -p c:\\Users\\Pooja\\OneDrive\\Desktop\\MLProject\\GroundwaterAnalysis\\venv ipykernel --update-deps --force-reinstall'"
          ]
        }
      ],
      "source": [
        "X_missing_values = df_missing.loc[df_missing['CO3'].isnull(), 'pH'].values.reshape(-1, 1)\n",
        "\n",
        "# Predict the missing values\n",
        "predicted_missing_values = model.predict(X_missing_values)\n",
        "\n",
        "# Update the missing values in the original dataset with the predicted values\n",
        "df_missing.loc[df_missing['CO3'].isnull(), 'CO3'] = predicted_missing_values"
      ]
    },
    {
      "cell_type": "code",
      "execution_count": null,
      "metadata": {
        "id": "_VaFKZUddjWr"
      },
      "outputs": [
        {
          "ename": "",
          "evalue": "",
          "output_type": "error",
          "traceback": [
            "\u001b[1;31mRunning cells with 'venv (Python 3.7.0)' requires the ipykernel package.\n",
            "\u001b[1;31mRun the following command to install 'ipykernel' into the Python environment. \n",
            "\u001b[1;31mCommand: 'conda install -p c:\\Users\\Pooja\\OneDrive\\Desktop\\MLProject\\GroundwaterAnalysis\\venv ipykernel --update-deps --force-reinstall'"
          ]
        }
      ],
      "source": [
        "data2019['CO3']=df_missing['CO3']"
      ]
    },
    {
      "cell_type": "code",
      "execution_count": null,
      "metadata": {
        "colab": {
          "base_uri": "https://localhost:8080/"
        },
        "id": "OeAaITUG9iiN",
        "outputId": "3ffcb2db-0b5c-46c4-9063-5e2b5a5a35bd"
      },
      "outputs": [
        {
          "ename": "",
          "evalue": "",
          "output_type": "error",
          "traceback": [
            "\u001b[1;31mRunning cells with 'venv (Python 3.7.0)' requires the ipykernel package.\n",
            "\u001b[1;31mRun the following command to install 'ipykernel' into the Python environment. \n",
            "\u001b[1;31mCommand: 'conda install -p c:\\Users\\Pooja\\OneDrive\\Desktop\\MLProject\\GroundwaterAnalysis\\venv ipykernel --update-deps --force-reinstall'"
          ]
        }
      ],
      "source": [
        "missing2019=data2019[data2019['CO3'].isnull()]\n",
        "missing2019['district'].value_counts()"
      ]
    },
    {
      "cell_type": "code",
      "execution_count": null,
      "metadata": {
        "id": "gbVKm5PhCC1C"
      },
      "outputs": [
        {
          "ename": "",
          "evalue": "",
          "output_type": "error",
          "traceback": [
            "\u001b[1;31mRunning cells with 'venv (Python 3.7.0)' requires the ipykernel package.\n",
            "\u001b[1;31mRun the following command to install 'ipykernel' into the Python environment. \n",
            "\u001b[1;31mCommand: 'conda install -p c:\\Users\\Pooja\\OneDrive\\Desktop\\MLProject\\GroundwaterAnalysis\\venv ipykernel --update-deps --force-reinstall'"
          ]
        }
      ],
      "source": [
        "water_data=pd.concat([data2018,data2019,data2020])\n",
        "water_data.to_csv('cleaned_ground_water_data.csv', index=False)"
      ]
    },
    {
      "cell_type": "code",
      "execution_count": null,
      "metadata": {
        "id": "ESGedDGODkLT"
      },
      "outputs": [
        {
          "ename": "",
          "evalue": "",
          "output_type": "error",
          "traceback": [
            "\u001b[1;31mRunning cells with 'venv (Python 3.7.0)' requires the ipykernel package.\n",
            "\u001b[1;31mRun the following command to install 'ipykernel' into the Python environment. \n",
            "\u001b[1;31mCommand: 'conda install -p c:\\Users\\Pooja\\OneDrive\\Desktop\\MLProject\\GroundwaterAnalysis\\venv ipykernel --update-deps --force-reinstall'"
          ]
        }
      ],
      "source": [
        "water_data.loc[261,'pH']=8.05\n",
        "water_data['pH']=water_data.loc[:,'pH'].astype(float)"
      ]
    },
    {
      "cell_type": "code",
      "execution_count": null,
      "metadata": {
        "id": "8ZKOLUiLYorl"
      },
      "outputs": [
        {
          "ename": "",
          "evalue": "",
          "output_type": "error",
          "traceback": [
            "\u001b[1;31mRunning cells with 'venv (Python 3.7.0)' requires the ipykernel package.\n",
            "\u001b[1;31mRun the following command to install 'ipykernel' into the Python environment. \n",
            "\u001b[1;31mCommand: 'conda install -p c:\\Users\\Pooja\\OneDrive\\Desktop\\MLProject\\GroundwaterAnalysis\\venv ipykernel --update-deps --force-reinstall'"
          ]
        }
      ],
      "source": [
        "Columns_to_drop=['sno', 'district', 'mandal', 'village', 'lat_gis', 'long_gis','season','RSC  meq  / L','Classification.1']\n",
        "Water_data=water_data.drop(columns=Columns_to_drop,inplace=True)"
      ]
    },
    {
      "cell_type": "code",
      "execution_count": null,
      "metadata": {
        "colab": {
          "base_uri": "https://localhost:8080/",
          "height": 226
        },
        "id": "U4thfFiEaTvR",
        "outputId": "60cd55dd-71d8-402d-cd72-1af184a41c30"
      },
      "outputs": [
        {
          "ename": "",
          "evalue": "",
          "output_type": "error",
          "traceback": [
            "\u001b[1;31mRunning cells with 'venv (Python 3.7.0)' requires the ipykernel package.\n",
            "\u001b[1;31mRun the following command to install 'ipykernel' into the Python environment. \n",
            "\u001b[1;31mCommand: 'conda install -p c:\\Users\\Pooja\\OneDrive\\Desktop\\MLProject\\GroundwaterAnalysis\\venv ipykernel --update-deps --force-reinstall'"
          ]
        }
      ],
      "source": [
        "water_data.head()"
      ]
    },
    {
      "cell_type": "code",
      "execution_count": null,
      "metadata": {
        "colab": {
          "base_uri": "https://localhost:8080/"
        },
        "id": "WHa2ptaKa1DB",
        "outputId": "83673ea5-a41c-419a-ca43-76c38ddd9a1f"
      },
      "outputs": [
        {
          "ename": "",
          "evalue": "",
          "output_type": "error",
          "traceback": [
            "\u001b[1;31mRunning cells with 'venv (Python 3.7.0)' requires the ipykernel package.\n",
            "\u001b[1;31mRun the following command to install 'ipykernel' into the Python environment. \n",
            "\u001b[1;31mCommand: 'conda install -p c:\\Users\\Pooja\\OneDrive\\Desktop\\MLProject\\GroundwaterAnalysis\\venv ipykernel --update-deps --force-reinstall'"
          ]
        }
      ],
      "source": [
        "water_data['Classification'].value_counts()"
      ]
    },
    {
      "cell_type": "code",
      "execution_count": null,
      "metadata": {
        "id": "44u1P-IOa9vC"
      },
      "outputs": [
        {
          "ename": "",
          "evalue": "",
          "output_type": "error",
          "traceback": [
            "\u001b[1;31mRunning cells with 'venv (Python 3.7.0)' requires the ipykernel package.\n",
            "\u001b[1;31mRun the following command to install 'ipykernel' into the Python environment. \n",
            "\u001b[1;31mCommand: 'conda install -p c:\\Users\\Pooja\\OneDrive\\Desktop\\MLProject\\GroundwaterAnalysis\\venv ipykernel --update-deps --force-reinstall'"
          ]
        }
      ],
      "source": [
        "water_data = water_data[~water_data['Classification'].isin(['C3S4', 'C2S2','OG','O.G'])]"
      ]
    },
    {
      "cell_type": "code",
      "execution_count": null,
      "metadata": {
        "id": "xliXjixnbNDg"
      },
      "outputs": [
        {
          "ename": "",
          "evalue": "",
          "output_type": "error",
          "traceback": [
            "\u001b[1;31mRunning cells with 'venv (Python 3.7.0)' requires the ipykernel package.\n",
            "\u001b[1;31mRun the following command to install 'ipykernel' into the Python environment. \n",
            "\u001b[1;31mCommand: 'conda install -p c:\\Users\\Pooja\\OneDrive\\Desktop\\MLProject\\GroundwaterAnalysis\\venv ipykernel --update-deps --force-reinstall'"
          ]
        }
      ],
      "source": [
        "#splitting train and test by startified\n",
        "X=water_data.drop(['Classification'],axis=1)\n",
        "y=water_data['Classification']\n",
        "X_train, X_test, y_train, y_test = train_test_split(X, y, test_size=0.3, stratify=y, random_state=2)"
      ]
    },
    {
      "cell_type": "code",
      "execution_count": null,
      "metadata": {
        "id": "C4UM9pZfbrQt"
      },
      "outputs": [
        {
          "ename": "",
          "evalue": "",
          "output_type": "error",
          "traceback": [
            "\u001b[1;31mRunning cells with 'venv (Python 3.7.0)' requires the ipykernel package.\n",
            "\u001b[1;31mRun the following command to install 'ipykernel' into the Python environment. \n",
            "\u001b[1;31mCommand: 'conda install -p c:\\Users\\Pooja\\OneDrive\\Desktop\\MLProject\\GroundwaterAnalysis\\venv ipykernel --update-deps --force-reinstall'"
          ]
        }
      ],
      "source": [
        "scaler = StandardScaler()\n",
        "X_train_normalized = scaler.fit_transform(X_train)\n",
        "X_test_normalized = scaler.transform(X_test)"
      ]
    },
    {
      "cell_type": "code",
      "execution_count": null,
      "metadata": {
        "id": "lq9Ev_pTb2VT"
      },
      "outputs": [
        {
          "ename": "",
          "evalue": "",
          "output_type": "error",
          "traceback": [
            "\u001b[1;31mRunning cells with 'venv (Python 3.7.0)' requires the ipykernel package.\n",
            "\u001b[1;31mRun the following command to install 'ipykernel' into the Python environment. \n",
            "\u001b[1;31mCommand: 'conda install -p c:\\Users\\Pooja\\OneDrive\\Desktop\\MLProject\\GroundwaterAnalysis\\venv ipykernel --update-deps --force-reinstall'"
          ]
        }
      ],
      "source": [
        "#pca\n",
        "pca = PCA(n_components=12)\n",
        "X_train_pca = pca.fit_transform(X_train_normalized)\n",
        "X_test_pca = pca.transform(X_test_normalized)"
      ]
    },
    {
      "cell_type": "code",
      "execution_count": null,
      "metadata": {
        "colab": {
          "base_uri": "https://localhost:8080/"
        },
        "id": "Cu48Eki3Lngu",
        "outputId": "25a30aa5-9f15-4417-cbb7-bb16b702c892"
      },
      "outputs": [
        {
          "ename": "",
          "evalue": "",
          "output_type": "error",
          "traceback": [
            "\u001b[1;31mRunning cells with 'venv (Python 3.7.0)' requires the ipykernel package.\n",
            "\u001b[1;31mRun the following command to install 'ipykernel' into the Python environment. \n",
            "\u001b[1;31mCommand: 'conda install -p c:\\Users\\Pooja\\OneDrive\\Desktop\\MLProject\\GroundwaterAnalysis\\venv ipykernel --update-deps --force-reinstall'"
          ]
        }
      ],
      "source": [
        "pca.explained_variance_ratio_"
      ]
    },
    {
      "cell_type": "code",
      "execution_count": null,
      "metadata": {
        "colab": {
          "base_uri": "https://localhost:8080/"
        },
        "id": "NYM63Rk1LtsE",
        "outputId": "73c60809-b7d7-4fda-f9e1-29f7ed71276a"
      },
      "outputs": [
        {
          "ename": "",
          "evalue": "",
          "output_type": "error",
          "traceback": [
            "\u001b[1;31mRunning cells with 'venv (Python 3.7.0)' requires the ipykernel package.\n",
            "\u001b[1;31mRun the following command to install 'ipykernel' into the Python environment. \n",
            "\u001b[1;31mCommand: 'conda install -p c:\\Users\\Pooja\\OneDrive\\Desktop\\MLProject\\GroundwaterAnalysis\\venv ipykernel --update-deps --force-reinstall'"
          ]
        }
      ],
      "source": [
        "sum(pca.explained_variance_ratio_)"
      ]
    },
    {
      "cell_type": "code",
      "execution_count": null,
      "metadata": {
        "id": "_lIs5vG5MSr7"
      },
      "outputs": [
        {
          "ename": "",
          "evalue": "",
          "output_type": "error",
          "traceback": [
            "\u001b[1;31mRunning cells with 'venv (Python 3.7.0)' requires the ipykernel package.\n",
            "\u001b[1;31mRun the following command to install 'ipykernel' into the Python environment. \n",
            "\u001b[1;31mCommand: 'conda install -p c:\\Users\\Pooja\\OneDrive\\Desktop\\MLProject\\GroundwaterAnalysis\\venv ipykernel --update-deps --force-reinstall'"
          ]
        }
      ],
      "source": [
        "encoder = LabelEncoder()\n",
        "y_train_encoded = encoder.fit_transform(y_train)\n",
        "y_test_encoded = encoder.transform(y_test)"
      ]
    },
    {
      "cell_type": "code",
      "execution_count": null,
      "metadata": {
        "colab": {
          "base_uri": "https://localhost:8080/"
        },
        "id": "I5s1WLa5MEJd",
        "outputId": "ce2e4aee-3c69-4f8f-b4c2-73f6ffbe80f6"
      },
      "outputs": [
        {
          "ename": "",
          "evalue": "",
          "output_type": "error",
          "traceback": [
            "\u001b[1;31mRunning cells with 'venv (Python 3.7.0)' requires the ipykernel package.\n",
            "\u001b[1;31mRun the following command to install 'ipykernel' into the Python environment. \n",
            "\u001b[1;31mCommand: 'conda install -p c:\\Users\\Pooja\\OneDrive\\Desktop\\MLProject\\GroundwaterAnalysis\\venv ipykernel --update-deps --force-reinstall'"
          ]
        }
      ],
      "source": [
        "#best model = XGBoost\n",
        "\n",
        "best_model = xgb.XGBClassifier(n_estimators=1000, max_depth=5, learning_rate=0.1, subsample=0.8, colsample_bytree=0.8)  # Replace with the selected best model\n",
        "best_model.fit(X_train_pca, y_train_encoded)\n",
        "\n",
        "#Evaluate the final model on the test set\n",
        "\n",
        "y_test_pred = best_model.predict(X_test_pca)\n",
        "test_accuracy = accuracy_score(y_test_encoded, y_test_pred)\n",
        "print(f\"\\nFinal Model - Test Accuracy: {test_accuracy:.4f}\")"
      ]
    },
    {
      "cell_type": "code",
      "execution_count": null,
      "metadata": {
        "id": "mlsEqgKOT6Ux"
      },
      "outputs": [
        {
          "ename": "",
          "evalue": "",
          "output_type": "error",
          "traceback": [
            "\u001b[1;31mRunning cells with 'venv (Python 3.7.0)' requires the ipykernel package.\n",
            "\u001b[1;31mRun the following command to install 'ipykernel' into the Python environment. \n",
            "\u001b[1;31mCommand: 'conda install -p c:\\Users\\Pooja\\OneDrive\\Desktop\\MLProject\\GroundwaterAnalysis\\venv ipykernel --update-deps --force-reinstall'"
          ]
        }
      ],
      "source": [
        "import pickle\n",
        "with open('WaterQualityClassification.pkl', 'wb') as file:\n",
        "    pickle.dump(best_model, file)"
      ]
    },
    {
      "cell_type": "code",
      "execution_count": null,
      "metadata": {
        "colab": {
          "base_uri": "https://localhost:8080/"
        },
        "id": "swEoe0pWUKTv",
        "outputId": "4727b669-8e7e-4915-bc17-0812a74dce67"
      },
      "outputs": [
        {
          "ename": "",
          "evalue": "",
          "output_type": "error",
          "traceback": [
            "\u001b[1;31mRunning cells with 'venv (Python 3.7.0)' requires the ipykernel package.\n",
            "\u001b[1;31mRun the following command to install 'ipykernel' into the Python environment. \n",
            "\u001b[1;31mCommand: 'conda install -p c:\\Users\\Pooja\\OneDrive\\Desktop\\MLProject\\GroundwaterAnalysis\\venv ipykernel --update-deps --force-reinstall'"
          ]
        }
      ],
      "source": [
        "encoded_classes = encoder.classes_\n",
        "\n",
        "for i, class_label in enumerate(encoded_classes):\n",
        "    print(f\"Class Label: {class_label} - Encoded Value: {i}\")"
      ]
    },
    {
      "cell_type": "code",
      "execution_count": null,
      "metadata": {
        "id": "hgmM-hQ2VBJ3"
      },
      "outputs": [
        {
          "ename": "",
          "evalue": "",
          "output_type": "error",
          "traceback": [
            "\u001b[1;31mRunning cells with 'venv (Python 3.7.0)' requires the ipykernel package.\n",
            "\u001b[1;31mRun the following command to install 'ipykernel' into the Python environment. \n",
            "\u001b[1;31mCommand: 'conda install -p c:\\Users\\Pooja\\OneDrive\\Desktop\\MLProject\\GroundwaterAnalysis\\venv ipykernel --update-deps --force-reinstall'"
          ]
        }
      ],
      "source": [
        "def prediction(data):\n",
        "    with open('WaterQualityClassification.pkl', 'rb') as file:\n",
        "        loaded_model = pickle.load(file)\n",
        "\n",
        "    new_data=np.array(data)\n",
        "    new_data_normalised=scaler.transform(new_data.reshape(1,-1))\n",
        "    new_data_pca=pca.transform(new_data_normalised)\n",
        "    predicted_class = loaded_model.predict(new_data_pca)\n",
        "\n",
        "    encoded_class=predicted_class\n",
        "    original_class=encoder.inverse_transform(encoded_class)\n",
        "    Class_Description={'C1S1':\"Low salinity and low sodium waters are good for irrigation and can be used with most crops with no restriction on use on most of the soils. \",\n",
        "                   'C2S1':\"Medium salinity and low sodium waters are good for irrigation and can be used on all most all soils with little danger of development of harmful levels of exchangeable sodium if a moderate amount of leaching occurs. Crops can be grown without any special consideration for salinity control. \",\n",
        "                   'C3S1':\"The high salinity and low sodium waters require good drainage. Crops with good salt tolerance should be selected.\",\n",
        "                  'C3S2':\"The high salinity and medium sodium waters require good drainage and can be used on coarse - textured or organic soils having good permeability. \",\n",
        "                  'C3S3':\"These high salinity and high sodium waters require special soil management, good drainage, high leaching and organic matter additions. Gypsum amendments make feasible the use of these waters. \",\n",
        "                  'C4S1':\"Very high salinity and low sodium waters are not suitable for irrigation unless the soil must be permeable and drainage must be adequate. Irrigation waters must be applied in excess to provide considerable leaching. Salt tolerant crops must be selected. \",\n",
        "                  'C4S2':\"Very high salinity and medium sodium waters are not suitable for irrigation on fine textured soils and low leaching conditions and can be used for irrigation on coarse textured or organic soils having good permeability. \",\n",
        "                  'C4S3':\"Very high salinity and high sodium waters produce harmful levels of exchangeable sodium in most soils and will require special soil management, good drainage, high leaching, and organic matter additions. The Gypsum amendment makes feasible the use of these waters. \",\n",
        "                       'C4S4':\"Very high salinity and very high sodium waters are generally unsuitable for irrigation purposes. These are sodium chloride types of water and can cause sodium hazards. It can be used on coarse-textured soils with very good drainage for very high salt tolerant crops. Gypsum amendments make feasible the use of these waters. \"\n",
        "                  }\n",
        "\n",
        "    if original_class[0] in Class_Description:\n",
        "        print(original_class[0]+\" \"+Class_Description[original_class[0]])"
      ]
    },
    {
      "cell_type": "code",
      "execution_count": null,
      "metadata": {
        "colab": {
          "base_uri": "https://localhost:8080/"
        },
        "id": "70U6h0k1WEwT",
        "outputId": "4af8e414-8cb7-427d-ec5f-2bc702896c56"
      },
      "outputs": [
        {
          "ename": "",
          "evalue": "",
          "output_type": "error",
          "traceback": [
            "\u001b[1;31mRunning cells with 'venv (Python 3.7.0)' requires the ipykernel package.\n",
            "\u001b[1;31mRun the following command to install 'ipykernel' into the Python environment. \n",
            "\u001b[1;31mCommand: 'conda install -p c:\\Users\\Pooja\\OneDrive\\Desktop\\MLProject\\GroundwaterAnalysis\\venv ipykernel --update-deps --force-reinstall'"
          ]
        }
      ],
      "source": [
        "test_data=[5.66,8.02,420,275.3,0.0,153.3,12,0.55,11.200,37,25,1.0,33.0,20.5,160.3,0.938]\n",
        "prediction(test_data)"
      ]
    },
    {
      "cell_type": "code",
      "execution_count": null,
      "metadata": {
        "colab": {
          "base_uri": "https://localhost:8080/"
        },
        "id": "fgOmU7wqScFu",
        "outputId": "fd5d88d2-1da4-48e4-9361-7387ea19ba63"
      },
      "outputs": [
        {
          "ename": "",
          "evalue": "",
          "output_type": "error",
          "traceback": [
            "\u001b[1;31mRunning cells with 'venv (Python 3.7.0)' requires the ipykernel package.\n",
            "\u001b[1;31mRun the following command to install 'ipykernel' into the Python environment. \n",
            "\u001b[1;31mCommand: 'conda install -p c:\\Users\\Pooja\\OneDrive\\Desktop\\MLProject\\GroundwaterAnalysis\\venv ipykernel --update-deps --force-reinstall'"
          ]
        }
      ],
      "source": [
        "acc_lr = accuracy_score(y_test_encoded, y_test_pred)\n",
        "conf = confusion_matrix(y_test_encoded, y_test_pred)\n",
        "clf_report = classification_report(y_test_encoded, y_test_pred)\n",
        "print(f\"Accuracy Score of Logistic Regression is : {acc_lr}\")\n",
        "print(f\"Confusion Matrix : \\n{conf}\")\n",
        "print(f\"Classification Report : \\n{clf_report}\")"
      ]
    },
    {
      "cell_type": "code",
      "execution_count": null,
      "metadata": {
        "id": "2LE7WRSVuN23"
      },
      "outputs": [
        {
          "ename": "",
          "evalue": "",
          "output_type": "error",
          "traceback": [
            "\u001b[1;31mRunning cells with 'venv (Python 3.7.0)' requires the ipykernel package.\n",
            "\u001b[1;31mRun the following command to install 'ipykernel' into the Python environment. \n",
            "\u001b[1;31mCommand: 'conda install -p c:\\Users\\Pooja\\OneDrive\\Desktop\\MLProject\\GroundwaterAnalysis\\venv ipykernel --update-deps --force-reinstall'"
          ]
        }
      ],
      "source": []
    }
  ],
  "metadata": {
    "colab": {
      "provenance": []
    },
    "kernelspec": {
      "display_name": "Python 3",
      "name": "python3"
    },
    "language_info": {
      "name": "python",
      "version": "3.7.0"
    }
  },
  "nbformat": 4,
  "nbformat_minor": 0
}
